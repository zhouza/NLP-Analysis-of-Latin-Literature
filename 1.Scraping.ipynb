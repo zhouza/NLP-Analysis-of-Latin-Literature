{
 "cells": [
  {
   "cell_type": "code",
   "execution_count": 17,
   "metadata": {
    "scrolled": true
   },
   "outputs": [],
   "source": [
    "import pandas as pd\n",
    "import numpy as np\n",
    "import matplotlib.pyplot as plt\n",
    "import string\n",
    "import re\n",
    "import requests\n",
    "from bs4 import BeautifulSoup\n",
    "from selenium import webdriver\n",
    "from selenium.webdriver.common.keys import Keys\n",
    "import time\n",
    "import os\n",
    "import pickle\n",
    "from pymongo import MongoClient"
   ]
  },
  {
   "cell_type": "code",
   "execution_count": 20,
   "metadata": {},
   "outputs": [],
   "source": [
    "chromedriver =\"/home/zhouza/chromedriver\"\n",
    "#chromedriver = \"../../chromedriver\"\n",
    "os.environ[\"webdriver.chrome.driver\"] = chromedriver"
   ]
  },
  {
   "cell_type": "code",
   "execution_count": 131,
   "metadata": {},
   "outputs": [],
   "source": [
    "driver = webdriver.Chrome(chromedriver)"
   ]
  },
  {
   "cell_type": "code",
   "execution_count": 22,
   "metadata": {},
   "outputs": [],
   "source": [
    "base_url = 'http://cts.perseids.org'"
   ]
  },
  {
   "cell_type": "code",
   "execution_count": 23,
   "metadata": {
    "scrolled": true
   },
   "outputs": [],
   "source": [
    "def init_authors():\n",
    "    driver.get('http://cts.perseids.org/read/latinLit')\n",
    "    links = []\n",
    "    authors_ul = driver.find_elements_by_class_name('menu')[1]\n",
    "    authors = authors_ul.find_elements_by_tag_name('a')\n",
    "    for author in authors:\n",
    "        # remove numbers and special characters from author name\n",
    "        author_name = re.sub(r'[^a-zA-Z\\s]*','',author.text.strip())\n",
    "        links.append({'author':author_name, 'url':author.get_attribute('href')})\n",
    "\n",
    "    return links"
   ]
  },
  {
   "cell_type": "code",
   "execution_count": null,
   "metadata": {},
   "outputs": [],
   "source": [
    "links = init_authors()"
   ]
  },
  {
   "cell_type": "code",
   "execution_count": 24,
   "metadata": {},
   "outputs": [],
   "source": [
    "def add_works(links):\n",
    "    \n",
    "    for author in links: \n",
    "        author_name = author['author']\n",
    "        # driver.get(author['url'])\n",
    "\n",
    "        works_soup = BeautifulSoup(requests.get(author['url']).text,'lxml')\n",
    "        works = works_soup.findAll('h2')\n",
    "        for work in works:\n",
    "            work_name = re.sub(r'[^a-zA-Z\\s]*','',work.text.strip())\n",
    "\n",
    "            # check if Latin text is available\n",
    "            try:\n",
    "                work_url = base_url + work.findNextSibling().find('a',text=['Latin','Latin ']).attrs['href']\n",
    "            except:\n",
    "                work_url = None\n",
    "\n",
    "            find_idx = [idx for idx,entry in enumerate(links) if entry['author'] == author_name][0]\n",
    "            # check if content key already created\n",
    "            try:\n",
    "                links[find_idx]['content'].append({'work':work_name, 'url':work_url})\n",
    "            except:\n",
    "                links[find_idx]['content'] = [{'work':work_name, 'url':work_url}]\n",
    "    \n",
    "    return links"
   ]
  },
  {
   "cell_type": "code",
   "execution_count": null,
   "metadata": {},
   "outputs": [],
   "source": [
    "links = add_works(links)"
   ]
  },
  {
   "cell_type": "code",
   "execution_count": 129,
   "metadata": {},
   "outputs": [],
   "source": [
    "def get_text(url):\n",
    "\n",
    "    driver.get(url)\n",
    "    try:\n",
    "        text_links = driver.find_element_by_class_name('reffs').find_elements_by_tag_name('a')\n",
    "        link_list = [link.get_attribute('href') for link in text_links]\n",
    "\n",
    "        text_list = []\n",
    "        for link in link_list:\n",
    "            driver.get(link)\n",
    "            try:\n",
    "                text = driver.find_element_by_tag_name('section').text\n",
    "                cleaned_text = re.sub(r'[\\s\\xa0]+',' ',text.strip())\n",
    "            except:\n",
    "                text = ''\n",
    "            text_list.append(text)\n",
    "        text_str = '\\n'.join(text_list)\n",
    "    except:\n",
    "        text_str = ''\n",
    "    return text_str"
   ]
  },
  {
   "cell_type": "code",
   "execution_count": 103,
   "metadata": {},
   "outputs": [],
   "source": [
    "pickle.dump(links,open('pickles/links.pkl','wb'))"
   ]
  },
  {
   "cell_type": "code",
   "execution_count": 9,
   "metadata": {
    "scrolled": false
   },
   "outputs": [],
   "source": [
    "links = pickle.load(open('pickles/links.pkl','rb'))"
   ]
  },
  {
   "cell_type": "code",
   "execution_count": 84,
   "metadata": {},
   "outputs": [],
   "source": [
    "client = MongoClient()\n",
    "db = client.latinlit\n",
    "data = db.data"
   ]
  },
  {
   "cell_type": "code",
   "execution_count": 79,
   "metadata": {},
   "outputs": [],
   "source": [
    "# data = []\n",
    "\n",
    "for author in links[-1:]:\n",
    "    author_name = author['author']\n",
    "    for work in author['content']:\n",
    "        work_name = work['work']\n",
    "        if work['url'] != None:\n",
    "            text = get_text(work['url'])\n",
    "            # data.append({'author':author_name, 'work':work_name, 'text':text})\n",
    "            data.insert_one({'author':author_name, 'work':work_name, 'text':text})"
   ]
  },
  {
   "cell_type": "code",
   "execution_count": 85,
   "metadata": {},
   "outputs": [
    {
     "data": {
      "text/plain": [
       "631"
      ]
     },
     "execution_count": 85,
     "metadata": {},
     "output_type": "execute_result"
    }
   ],
   "source": [
    "data.find({}).count()"
   ]
  },
  {
   "cell_type": "code",
   "execution_count": 133,
   "metadata": {},
   "outputs": [],
   "source": [
    "missing = list(data.find({'text':''}))"
   ]
  },
  {
   "cell_type": "code",
   "execution_count": 132,
   "metadata": {},
   "outputs": [],
   "source": [
    "for doc in missing:\n",
    "    author_name = doc['author']\n",
    "    work_name = doc['work']\n",
    "    link_idx = [idx for idx,entry in enumerate(links) if entry['author'] == author_name][0]\n",
    "    work_idx = [idx for idx,entry in enumerate(links[link_idx]['content']) if entry['work'] == work_name][0]\n",
    "    work_url = links[link_idx]['content'][work_idx]['url']\n",
    "    if work_url != None:\n",
    "        text = get_text(work_url)\n",
    "        # data.append({'author':author_name, 'work':work_name, 'text':text})\n",
    "        data.delete_one({'author':author_name, 'work':work_name})\n",
    "        data.insert_one({'author':author_name, 'work':work_name, 'text':text})"
   ]
  },
  {
   "cell_type": "code",
   "execution_count": 135,
   "metadata": {},
   "outputs": [],
   "source": [
    "scraped_data = list(data.find({}))\n",
    "pickle.dump(scraped_data,open('pickles/scraped_data.pkl','wb'))"
   ]
  },
  {
   "cell_type": "code",
   "execution_count": 139,
   "metadata": {},
   "outputs": [],
   "source": [
    "root_data = db.rootdata\n",
    "split_data = db.splitdata"
   ]
  },
  {
   "cell_type": "code",
   "execution_count": 143,
   "metadata": {},
   "outputs": [
    {
     "data": {
      "text/plain": [
       "38575"
      ]
     },
     "execution_count": 143,
     "metadata": {},
     "output_type": "execute_result"
    }
   ],
   "source": [
    "root_data.find({}).count()"
   ]
  },
  {
   "cell_type": "code",
   "execution_count": 141,
   "metadata": {},
   "outputs": [
    {
     "data": {
      "text/plain": [
       "117194"
      ]
     },
     "execution_count": 141,
     "metadata": {},
     "output_type": "execute_result"
    }
   ],
   "source": [
    "split_data.find({}).count()"
   ]
  },
  {
   "cell_type": "code",
   "execution_count": null,
   "metadata": {},
   "outputs": [],
   "source": []
  }
 ],
 "metadata": {
  "kernelspec": {
   "display_name": "Python 3",
   "language": "python",
   "name": "python3"
  },
  "language_info": {
   "codemirror_mode": {
    "name": "ipython",
    "version": 3
   },
   "file_extension": ".py",
   "mimetype": "text/x-python",
   "name": "python",
   "nbconvert_exporter": "python",
   "pygments_lexer": "ipython3",
   "version": "3.6.5"
  }
 },
 "nbformat": 4,
 "nbformat_minor": 2
}
